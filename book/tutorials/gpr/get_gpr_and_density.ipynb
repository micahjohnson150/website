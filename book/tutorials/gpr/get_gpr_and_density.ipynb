{
 "cells": [
  {
   "cell_type": "markdown",
   "metadata": {},
   "source": [
    "# Retrieve GPR data centered on a pit\n",
    "\n",
    "**Goal**: Visualize a set of GPR snow depths around a pit and calculate the avg density from the pit\n",
    "\n",
    "**Approach**: \n",
    "\n",
    "1. Retrieve the pit location from the Layer Data table \n",
    "2. Build a circle around the pit location \n",
    "3. Request all the GPR data with a distance of our pit\n",
    "4. Request the Pit Data to get density layers and calculate the avg\n",
    "4. Plot depths!\n"
   ]
  },
  {
   "cell_type": "markdown",
   "metadata": {},
   "source": [
    "## Process\n",
    "### Step 1: Get the pit/site coordinates"
   ]
  },
  {
   "cell_type": "code",
   "execution_count": null,
   "metadata": {},
   "outputs": [],
   "source": [
    "# Import our DB access function\n",
    "from snowexsql.db import get_db\n",
    "\n",
    "# Import the two tables we need GPR ---> PointData, Density (Pits) --> LayerData \n",
    "from snowexsql.data import PointData, LayerData\n",
    "from snowexsql.conversions import query_to_geopandas\n",
    "\n",
    "# Import to make use of the posgis functions on the db that are not necessarily in python \n",
    "from sqlalchemy import func, Float\n",
    "# Import datetime module to filter by a date\n",
    "import datetime \n",
    "\n",
    "\n",
    "# use numpy to calculate the average of the density results \n",
    "import numpy as np \n",
    "\n",
    "# PIT Site Identifier\n",
    "site_id = '1S1'\n",
    "\n",
    "# Distance around the pit to collect data in meters\n",
    "buffer_dist = 50\n",
    "\n",
    "# Connect to the database we made.\n",
    "db_name = 'snow:hackweek@52.32.183.144/snowex'\n",
    "engine, session = get_db(db_name)\n",
    "\n",
    "# Grab our pit geometry (position) object by provided site id from the site details table, Since there is multiple layers and dates we limit the request to 1\n",
    "q = session.query(LayerData.geom).filter(LayerData.site_id == site_id).limit(1)\n",
    "site = q.all()\n",
    "print(site)\n"
   ]
  },
  {
   "cell_type": "markdown",
   "metadata": {},
   "source": [
    "### Step 2: Build a buffered circle around our pit"
   ]
  },
  {
   "cell_type": "code",
   "execution_count": null,
   "metadata": {},
   "outputs": [],
   "source": [
    "# Cast the geometry point into text to be used by Postgis function ST_Buffer\n",
    "point = session.query(site[0].geom.ST_AsText()).all()\n",
    "print(point)\n",
    "\n",
    "# Create a polygon buffered by our distance centered on the pit using postgis ST_Buffer \n",
    "q = session.query(func.ST_Buffer(point[0][0], buffer_dist))\n",
    "buffered_pit = q.all()[0][0]"
   ]
  },
  {
   "cell_type": "markdown",
   "metadata": {},
   "source": [
    "### Step 3: Request all GPR TWT measured inside the circle"
   ]
  },
  {
   "cell_type": "code",
   "execution_count": null,
   "metadata": {},
   "outputs": [],
   "source": [
    "# Collect all Point Data where the instrument string contains the GPR in its name\n",
    "qry = session.query(PointData).filter(PointData.instrument.contains('GPR'))\n",
    "\n",
    "# Additionally Filter by a date \n",
    "qry = qry.filter(PointData.date==datetime.date(2020, 1, 29))\n",
    "\n",
    "# See upload details at https://github.com/SnowEx/snowexsql/blob/087b382b8d5098f09db67310efd49f777525c0c8/scripts/upload/add_gpr.py#L27\n",
    "\n",
    "# Grab all the point data in the buffer using the POSTGIS ST_Within, anytime using the postgis functions we typically have to convert to text\n",
    "qry = qry.filter(func.ST_Within(PointData.geom.ST_AsText(), buffered_pit.ST_AsText()))\n",
    "\n",
    "# Use our handy dandy function to execute the query and make it a geopandas dataframe\n",
    "df = query_to_geopandas(qry, engine)"
   ]
  },
  {
   "cell_type": "markdown",
   "metadata": {},
   "source": [
    "### Step 4: Grab Density Profiles"
   ]
  },
  {
   "cell_type": "code",
   "execution_count": null,
   "metadata": {},
   "outputs": [],
   "source": [
    "# Request the average (avg) of Layer data casted as a float. We have to cast to a float in the layer table because all main values are stored as a string to \n",
    "# ...accomodate the hand hardness. \n",
    "qry = session.query(func.avg(LayerData.value.cast(Float)))\n",
    "\n",
    "# Filter our query only to density \n",
    "qry = qry.filter(LayerData.type=='density')\n",
    "\n",
    "# Request the data \n",
    "rho_avg = qry.all()\n",
    "print(rho_avg)\n",
    "\n",
    "\n",
    "# This is a gotcha. The data in layer data only is stored as a string to accomodate the hand hardness values \n",
    "print(f\"Average of pit densities is {rho_avg[0][0]:0.0f} kg/m3\")\n"
   ]
  },
  {
   "cell_type": "markdown",
   "metadata": {},
   "source": [
    "### Step 4: Plot it!"
   ]
  },
  {
   "cell_type": "code",
   "execution_count": null,
   "metadata": {
    "tags": [
     "nbsphinx-gallery",
     "nbsphinx-thumbnail"
    ]
   },
   "outputs": [],
   "source": [
    "# Get the Matplotlib Axes object from the dataframe object, color points by snow depth value\n",
    "ax = df.plot(column='value', legend=True, cmap='PuBu')\n",
    "\n",
    "# Use non-scientific notation for x and y ticks\n",
    "ax.ticklabel_format(style='plain', useOffset=False)\n",
    "\n",
    "# Set the various plots x/y labels and title.\n",
    "ax.set_title('Grand Mesa GPR Snow Depths w/in {}m of site {}'.format(buffer_dist, site_id))\n",
    "ax.set_xlabel('Easting [m]')\n",
    "ax.set_ylabel('Northing [m]')\n",
    "\n",
    "# Close the session to avoid hanging transactions\n",
    "session.close()"
   ]
  },
  {
   "cell_type": "code",
   "execution_count": null,
   "metadata": {},
   "outputs": [],
   "source": []
  }
 ],
 "metadata": {
  "kernelspec": {
   "display_name": "Python 3",
   "language": "python",
   "name": "python3"
  },
  "language_info": {
   "codemirror_mode": {
    "name": "ipython",
    "version": 3
   },
   "file_extension": ".py",
   "mimetype": "text/x-python",
   "name": "python",
   "nbconvert_exporter": "python",
   "pygments_lexer": "ipython3",
   "version": "3.8.8"
  }
 },
 "nbformat": 4,
 "nbformat_minor": 4
}
