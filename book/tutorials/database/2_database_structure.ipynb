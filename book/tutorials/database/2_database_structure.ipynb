{
 "cells": [
  {
   "cell_type": "markdown",
   "id": "robust-stress",
   "metadata": {},
   "source": [
    "# Hows the Database Structured?\n",
    "\n",
    "The goal of the database is to hold as much of the SnowEx data in one place and make it easier to \n",
    "do research with. With that in mind follow the steps below to see how the the data base is structured.\n",
    "\n",
    "\n",
    "## What were about to do\n",
    "\n",
    "1. Access the database using the snowexsql python library \n",
    "2. Query the database to see the underlying tables\n",
    "3. Query each table to see what columns are available\n",
    "\n",
    "\n",
    "## Step 1: Get a Database Session"
   ]
  },
  {
   "cell_type": "code",
   "execution_count": 6,
   "id": "periodic-passport",
   "metadata": {},
   "outputs": [],
   "source": [
    "# Import the connection function from the snowexsql library\n",
    "from snowexsql.db import get_db\n",
    "\n",
    "# This is what you will use for all of hackweek to access the db\n",
    "db_name = 'snow:hackweek@172.16.1.242/snowex'\n",
    "\n",
    "# Using the function get_db, we receive 2 ways to interact with the database\n",
    "engine, session = get_db(db_name)"
   ]
  },
  {
   "cell_type": "markdown",
   "id": "mathematical-cigarette",
   "metadata": {},
   "source": [
    "## Step 2: Query the DB to see what tables are available"
   ]
  },
  {
   "cell_type": "code",
   "execution_count": 7,
   "id": "extra-lighting",
   "metadata": {},
   "outputs": [
    {
     "data": {
      "text/plain": [
       "['spatial_ref_sys', 'sites', 'images', 'points', 'layers']"
      ]
     },
     "execution_count": 7,
     "metadata": {},
     "output_type": "execute_result"
    }
   ],
   "source": [
    "# Output the list of tables in the database \n",
    "engine.table_names()"
   ]
  },
  {
   "cell_type": "markdown",
   "id": "divided-manner",
   "metadata": {},
   "source": []
  },
  {
   "cell_type": "markdown",
   "id": "changing-sugar",
   "metadata": {},
   "source": [
    "## Step 3: Query a Table to see what columns you can use!\n",
    "\n",
    "In our python library `snowexsql` there are classes that reflect the database tables. This makes it easier to use in python.\n",
    "For google purposes this is also called Object Relational Mapping (ORM). \n",
    "\n",
    "Import the table class from `snowexsql.data` and `snowexsql.db.get_table_attributes`. The use `get_table_attributes` to see what\n",
    "columns are in each table!"
   ]
  },
  {
   "cell_type": "code",
   "execution_count": 9,
   "id": "rotary-census",
   "metadata": {},
   "outputs": [
    {
     "data": {
      "text/plain": [
       "['air_temp',\n",
       " 'aspect',\n",
       " 'date',\n",
       " 'easting',\n",
       " 'elevation',\n",
       " 'geom',\n",
       " 'ground_condition',\n",
       " 'ground_roughness',\n",
       " 'ground_vegetation',\n",
       " 'latitude',\n",
       " 'longitude',\n",
       " 'metadata',\n",
       " 'northing',\n",
       " 'precip',\n",
       " 'site_id',\n",
       " 'site_name',\n",
       " 'site_notes',\n",
       " 'sky_cover',\n",
       " 'slope_angle',\n",
       " 'time',\n",
       " 'time_created',\n",
       " 'time_updated',\n",
       " 'total_depth',\n",
       " 'tree_canopy',\n",
       " 'utm_zone',\n",
       " 'vegetation_height',\n",
       " 'weather_description',\n",
       " 'wind']"
      ]
     },
     "execution_count": 9,
     "metadata": {},
     "output_type": "execute_result"
    }
   ],
   "source": [
    "# Import the class reflecting the points table in the db\n",
    "from snowexsql.data import PointData\n",
    "\n",
    "# Import a function to investigate a table\n",
    "from snowexsql.db import get_table_attributes\n",
    "\n",
    "# Use the function to see what columns are available to use. \n",
    "db_columns = get_table_attributes(PointData)\n",
    "db_columns"
   ]
  },
  {
   "cell_type": "markdown",
   "id": "described-protest",
   "metadata": {},
   "source": [
    "Now using what you just did, use `get_table_attributes` to look at the other tables and **ask some questions**\n",
    "\n",
    "**Hint**: You have to change the table class name in two places in the above block.\n",
    "\n",
    "### Discussion: Whats the difference in these tables?\n",
    "\n",
    "If working by yourself checkout https://snowexsql.readthedocs.io/en/latest/database_structure.html to see how data gets categorized. \n"
   ]
  },
  {
   "cell_type": "markdown",
   "id": "three-third",
   "metadata": {},
   "source": [
    "## Bonus Step: Learning to help yourself\n",
    "`snowexsql` has a host of resources for you to  help your self. First when you are looking for something be sure to check the snowexsql's docs.\n",
    "There you will find notes on the database structure. datasets, and of course our API! \n",
    "\n",
    "https://snowexsql.readthedocs.io/en/latest/\n",
    "https://github.com/SnowEx/snowexsql/\n",
    "\n",
    "\n",
    "Some other resources that may be helpful are:\n",
    "\n",
    "* https://geoalchemy-2.readthedocs.io/en/0.8.4/ - geoalchemy is library that allows us to leverage postgis and other gis functions\n",
    "* https://docs.sqlalchemy.org/en/14/            - sqlalchemy is the underlying library that lets us map python to databases\n",
    "* https://postgis.net/                          - POSTGIS is the extension that make postgres have GIS capabilities. This is here as a resource but it will be discussed in more                                                   detail later.\n",
    "\n"
   ]
  },
  {
   "cell_type": "markdown",
   "id": "other-father",
   "metadata": {},
   "source": [
    "## Recap \n",
    "You just explored the database structure and discussed how they differ.\n",
    "\n",
    "**You should know:**\n",
    "* Which tables matter to a snowex scientist\n",
    "* What columns you can work with (or how to get the available columns)\n",
    "* Some resources to begin to help yourself.\n",
    "\n",
    "If you don't feel comfortable with these, you are probably not alone, let's discuss it!\n",
    "\n",
    "**Lets work with some data. Next up `get_depth_spiral_example`**"
   ]
  },
  {
   "cell_type": "code",
   "execution_count": null,
   "id": "increased-confirmation",
   "metadata": {},
   "outputs": [],
   "source": []
  }
 ],
 "metadata": {
  "kernelspec": {
   "display_name": "Python 3",
   "language": "python",
   "name": "python3"
  },
  "language_info": {
   "codemirror_mode": {
    "name": "ipython",
    "version": 3
   },
   "file_extension": ".py",
   "mimetype": "text/x-python",
   "name": "python",
   "nbconvert_exporter": "python",
   "pygments_lexer": "ipython3",
   "version": "3.8.8"
  }
 },
 "nbformat": 4,
 "nbformat_minor": 5
}
