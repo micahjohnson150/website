{
 "cells": [
  {
   "cell_type": "markdown",
   "metadata": {},
   "source": [
    "# Introduction to the SnowEx Database\n",
    "\n",
    "Why a database?\n",
    "\n",
    "* Standardizing a diverse dataset \n",
    "* Cross referencing data \n",
    "* Enables GIS functionality \n",
    "\n",
    "TL;DR Do less wrangling, do more crunching. \n",
    "\n",
    "## What is it exactly?\n",
    "\n",
    "* Posgtressql database + \n",
    "* PostGIS extension\n",
    "* Supports vector and raster data\n",
    "* And a host of GIS operations\n",
    "\n",
    "## How do I get at this magical box of data?\n",
    "\n",
    "* PSQL \n",
    "* snowexsql <<-----\n",
    "\n"
   ]
  },
  {
   "cell_type": "code",
   "execution_count": 1,
   "metadata": {},
   "outputs": [],
   "source": [
    "# Import the connection function from the snowexsql library\n",
    "from snowexsql.db import get_db\n",
    "\n",
    "# This is what you will use for all of hackweek to access the db\n",
    "db_name = 'snow:hackweek@172.16.1.242/snowex'\n",
    "\n",
    "# Using the function get_db, we receive 2 ways to interact with the database\n",
    "engine, session = get_db(db_name)\n"
   ]
  },
  {
   "cell_type": "markdown",
   "metadata": {},
   "source": [
    "### 1. Using the Engine Object\n",
    "The `engine` object returned from the `get_db` function is not used much in the snowexsql library. It does allow you to use typical SQL \n",
    "strings to interact with the database. \n",
    "\n",
    "**Note**: Users who have used python + SQL before will likely be more familiar with this approach. Additionally those who don't know python but know SQL will also be more comfortable here.\n"
   ]
  },
  {
   "cell_type": "code",
   "execution_count": 2,
   "metadata": {},
   "outputs": [
    {
     "name": "stdout",
     "output_type": "stream",
     "text": [
      "5S21, 9S39, 2S37, 8N45, 6C34, 3S38, 3S14, 5N50, 6N46, 9S40, 9N44, 2N48, 2S11, 1S8, 9C23, 8C31, 8C32, 5C27, 9S51, 3S47, 5S24, 8S30, 2S25, 6C37, 1S1, 2S36, 2S3, 3S5, 2S48, 5S43, 6S19, 5N15, 6S32, 6S53, 7S50, 7S23, 9N30, 2N13, 2S20, 8N33, GML, 6N17, 8N35, TLSFL2A, 5N11, 5N10, 9N39, 2N49, 8S41, 2S45, 9N43, 5S42, 5S49, 2S27, 5S29, 9N56, 9N42, 8N54, 6S34, 6S44, 8N37, 8N51, 2S46, 3S52, 3S33, 9N47, 8N52, 7N40, 1S12, 1N23, 1N5, 2N21, 1N3, 1N7, FL2A, 2S6, 2N14, 2C2, 8C26, 6C10, 1C8, 8S28, 4C30, 2N12, 8C22, 2C3, 1C7, 1C1, 6C24, 2C6, 1C14, 2C4, 2C9, 9C28, 3N22, 9N59, 1N6, 7N57, 2N4, 8N25, 3N53, 8N55, 6N18, 5N19, 8N58, 4N2, 5N10, 1S13, 9C16, 8C36, 8C35, 2S9, 8C11, 8N9, 2S10, 8C18, 6S15, 8C29, 2S4, 1N20, 8S18, 6S22, 1C5, FL1B, 2C12, 5N24, 6S26, 2C13, 5N32, 1S17, 1C1, 2N8, 2S16, 3N26, 1N1, 2S7, 6N16, 1S2, 9N28, 4N27, 9C19, 5C20, 5N41, 9C17, 8N34, 6N31, 9N29, 5C21, 8C25, 6N36, 8N38, 2S35, 5S31, 7C15, 2C33\n",
      "\n"
     ]
    }
   ],
   "source": [
    "# First connect to the db\n",
    "conn = engine.connect()\n",
    "\n",
    "# Form a typical SQL query and use python to populate the table name\n",
    "qry = \"SELECT site_id FROM sites\"\n",
    "\n",
    "# Then we execute the sql command and collect the results\n",
    "results = conn.execute(qry)\n",
    "\n",
    "# Create a nice readable string to print the site names using python \n",
    "out = ', '.join((row['site_id'] for row in results))\n",
    "\n",
    "# Print it with a line return for readability\n",
    "print(out + '\\n')\n",
    "\n",
    "# Close your connections to avoid hanging transactions \n",
    "conn.close()\n"
   ]
  },
  {
   "cell_type": "markdown",
   "metadata": {},
   "source": [
    "### 2. Using the Session Object\n",
    "The session object allows a user to interact with the database in a pure python form. This approach is called Object Relational Mapping (ORM). This is important because its super handy when your are googling for help. \n",
    "\n",
    "ORM *maps* the database tables and their columns to a python class and attributes. Here is how it works:\n",
    "    "
   ]
  },
  {
   "cell_type": "code",
   "execution_count": 4,
   "metadata": {},
   "outputs": [
    {
     "name": "stdout",
     "output_type": "stream",
     "text": [
      "5S21, 9S39, 2S37, 8N45, 6C34, 3S38, 3S14, 5N50, 6N46, 9S40, 9N44, 2N48, 2S11, 1S8, 9C23, 8C31, 8C32, 5C27, 9S51, 3S47, 5S24, 8S30, 2S25, 6C37, 1S1, 2S36, 2S3, 3S5, 2S48, 5S43, 6S19, 5N15, 6S32, 6S53, 7S50, 7S23, 9N30, 2N13, 2S20, 8N33, GML, 6N17, 8N35, TLSFL2A, 5N11, 5N10, 9N39, 2N49, 8S41, 2S45, 9N43, 5S42, 5S49, 2S27, 5S29, 9N56, 9N42, 8N54, 6S34, 6S44, 8N37, 8N51, 2S46, 3S52, 3S33, 9N47, 8N52, 7N40, 1S12, 1N23, 1N5, 2N21, 1N3, 1N7, FL2A, 2S6, 2N14, 2C2, 8C26, 6C10, 1C8, 8S28, 4C30, 2N12, 8C22, 2C3, 1C7, 1C1, 6C24, 2C6, 1C14, 2C4, 2C9, 9C28, 3N22, 9N59, 1N6, 7N57, 2N4, 8N25, 3N53, 8N55, 6N18, 5N19, 8N58, 4N2, 5N10, 1S13, 9C16, 8C36, 8C35, 2S9, 8C11, 8N9, 2S10, 8C18, 6S15, 8C29, 2S4, 1N20, 8S18, 6S22, 1C5, FL1B, 2C12, 5N24, 6S26, 2C13, 5N32, 1S17, 1C1, 2N8, 2S16, 3N26, 1N1, 2S7, 6N16, 1S2, 9N28, 4N27, 9C19, 5C20, 5N41, 9C17, 8N34, 6N31, 9N29, 5C21, 8C25, 6N36, 8N38, 2S35, 5S31, 7C15, 2C33\n",
      "\n"
     ]
    }
   ],
   "source": [
    "# Import the table classes from our data module which is where our ORM classes are defined \n",
    "from  snowexsql.data import SiteData\n",
    "\n",
    "# Form the query to receive all the site_id from the sites table\n",
    "qry = session.query(SiteData.site_id)\n",
    "\n",
    "# Execute the query and collect the result\n",
    "results = qry.all()\n",
    "\n",
    "# Form a nice string for readability\n",
    "out = ', '.join([row[0] for row in list(results)])\n",
    "\n",
    "# Print it with a line return for readability\n",
    "print(out + '\\n')\n"
   ]
  },
  {
   "cell_type": "code",
   "execution_count": 5,
   "metadata": {},
   "outputs": [],
   "source": [
    "# Close your session to avoid hanging transactions\n",
    "session.close()"
   ]
  },
  {
   "cell_type": "markdown",
   "metadata": {},
   "source": [
    "## Recap\n",
    "\n",
    "You just:\n",
    "\n",
    "* Accessed a geodatabase using python \n",
    "* Saw two methods for interacting with the db using the snowexsql library\n",
    "* Pulled all the unique pit site id numbers from the db \n",
    "\n",
    "**Checkout the tutorial called database_structure to get a better understanding of whats available!**"
   ]
  },
  {
   "cell_type": "code",
   "execution_count": null,
   "metadata": {},
   "outputs": [],
   "source": []
  }
 ],
 "metadata": {
  "kernelspec": {
   "display_name": "Python 3",
   "language": "python",
   "name": "python3"
  },
  "language_info": {
   "codemirror_mode": {
    "name": "ipython",
    "version": 3
   },
   "file_extension": ".py",
   "mimetype": "text/x-python",
   "name": "python",
   "nbconvert_exporter": "python",
   "pygments_lexer": "ipython3",
   "version": "3.8.8"
  }
 },
 "nbformat": 4,
 "nbformat_minor": 4
}
